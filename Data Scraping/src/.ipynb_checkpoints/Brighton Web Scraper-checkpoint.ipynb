{
 "cells": [
  {
   "cell_type": "markdown",
   "id": "77d02974-58c9-4673-9e6a-848fc3662a3d",
   "metadata": {},
   "source": [
    "# Tugas 1 - Lab Basis Data - Data Scraping"
   ]
  },
  {
   "cell_type": "markdown",
   "id": "f85c9213-70fd-42c8-89af-6313b00b2939",
   "metadata": {},
   "source": [
    "Website: https://www.brighton.co.id/cari-properti/?OrderBy=5&sortRadio=on&Latitude=&Longitude=\n",
    "\n",
    "<p> Nama: Muhammad Zaky\n",
    "<br> NIM: 18220071"
   ]
  },
  {
   "cell_type": "markdown",
   "id": "badde707-f0b4-494f-95c7-d418bad931af",
   "metadata": {},
   "source": [
    "## Import Important Libraries"
   ]
  },
  {
   "cell_type": "code",
   "execution_count": 1,
   "id": "be3423f4-dad0-4bad-9f87-4467855db77f",
   "metadata": {},
   "outputs": [],
   "source": [
    "import json\n",
    "from bs4 import BeautifulSoup\n",
    "import requests\n",
    "import csv\n",
    "import time\n",
    "from tqdm import tqdm\n",
    "import os\n",
    "import pandas as pd"
   ]
  },
  {
   "cell_type": "markdown",
   "id": "8f7eee00-3b8c-49e9-a48d-cb592f35132b",
   "metadata": {},
   "source": [
    "## Permasalahan"
   ]
  },
  {
   "cell_type": "markdown",
   "id": "7b523b46-2602-4d3a-9cf4-a9a14eff1189",
   "metadata": {},
   "source": [
    "<i>Website</i> yang akan Saya <i>scrape</i> ini membatasi <i>guest</i> untuk hanya dapat melakukan akses terhadap <i>website</i> hingga laman ke-8. Sehingga, ketika <i>website</i> sudah mencapai laman ke-9, maka <i>guest</i> tersebut harus melakukan <i>login</i> ke dalam <i>website</i>. Maka dari itu, kita perlu menambahkan beberapa informasi, seperti <i>cookies</i> dan <i>header</i> agar dapat mengakses <i>website</i> secara keseluruhan."
   ]
  },
  {
   "cell_type": "code",
   "execution_count": 2,
   "id": "46526b69-9e5b-47c7-a04f-ef826f5c3756",
   "metadata": {},
   "outputs": [],
   "source": [
    "cookies = {\n",
    "    '_gcl_au': '1.1.1740225377.1655203706',\n",
    "    '_ga': 'GA1.3.585457613.1655203706',\n",
    "    '_gid': 'GA1.3.1404984123.1655203706',\n",
    "    '_fbp': 'fb.2.1655203706505.1927761622',\n",
    "    'ViewProductID3298051': '3298051',\n",
    "    'ViewProductID3298054': '3298054',\n",
    "    'PHPSESSID': '4f3f52a7557ed7ee465c7d69eeafc49b',\n",
    "    'SESSIONCOOKIE_2': 'MTY1NTI2ODE5NzM3MjYwUHVibGljTWVtYmVyRGF0YQ%3D%3D',\n",
    "    'PHPSESSID_2': 'CPupCEQRSXPlOQxgPEkYsiYgstgbfnV5oPF3lagWdcW5hZbu1BcYOcqB6y2INuYTCdzCZuHdkOf9kifqVZU1tNSe84xdNgM8EfWUnOSK7pBQUGObd%2FVSJ12M2Hh8tMDZlBpDW1uhf63%2B%2FSDXOnre%2BrwSt5uCRSQBoYWCT7kMqIbcqM0hCGdIxNtBIA4%2BV3%2F6y%2FL1vAjaZFya45OMFg%2Bf%2Fp3KHjOPcDyv3%2BFfPu0LSeKsrsEvG1b1H3ijN38rgp%2FNnQZcbP66NGsxDepTEco9H8rKnriFRG6%2FBbJ04NLWDAIzOOcjDd6z%2FwkI8n6OSQsSnUtPoTo%2Fko4py%2B4YVsxfjQ%3D%3D',\n",
    "}\n",
    "\n",
    "headers = {\n",
    "    'authority': 'www.brighton.co.id',\n",
    "    'accept': 'text/html,application/xhtml+xml,application/xml;q=0.9,image/avif,image/webp,image/apng,*/*;q=0.8,application/signed-exchange;v=b3;q=0.9',\n",
    "    'accept-language': 'en-US,en;q=0.9',\n",
    "    'cache-control': 'max-age=0',\n",
    "    # Requests sorts cookies= alphabetically\n",
    "    # 'cookie': '_gcl_au=1.1.1740225377.1655203706; _ga=GA1.3.585457613.1655203706; _gid=GA1.3.1404984123.1655203706; _fbp=fb.2.1655203706505.1927761622; ViewProductID3298051=3298051; ViewProductID3298054=3298054; PHPSESSID=4f3f52a7557ed7ee465c7d69eeafc49b; SESSIONCOOKIE_2=MTY1NTI2ODE5NzM3MjYwUHVibGljTWVtYmVyRGF0YQ%3D%3D; PHPSESSID_2=CPupCEQRSXPlOQxgPEkYsiYgstgbfnV5oPF3lagWdcW5hZbu1BcYOcqB6y2INuYTCdzCZuHdkOf9kifqVZU1tNSe84xdNgM8EfWUnOSK7pBQUGObd%2FVSJ12M2Hh8tMDZlBpDW1uhf63%2B%2FSDXOnre%2BrwSt5uCRSQBoYWCT7kMqIbcqM0hCGdIxNtBIA4%2BV3%2F6y%2FL1vAjaZFya45OMFg%2Bf%2Fp3KHjOPcDyv3%2BFfPu0LSeKsrsEvG1b1H3ijN38rgp%2FNnQZcbP66NGsxDepTEco9H8rKnriFRG6%2FBbJ04NLWDAIzOOcjDd6z%2FwkI8n6OSQsSnUtPoTo%2Fko4py%2B4YVsxfjQ%3D%3D',\n",
    "    'if-modified-since': 'Tue, 14 Jun 2022 13:21:19 GMT',\n",
    "    'if-none-match': '\"c2881c4df9f77a40b000206b3ecfc35d\"',\n",
    "    'referer': 'https://www.brighton.co.id/cari-properti/?OrderBy=5&sortRadio=on&Latitude=&Longitude=&page=1',\n",
    "    'sec-ch-ua': '\" Not A;Brand\";v=\"99\", \"Chromium\";v=\"102\", \"Google Chrome\";v=\"102\"',\n",
    "    'sec-ch-ua-mobile': '?0',\n",
    "    'sec-ch-ua-platform': '\"Windows\"',\n",
    "    'sec-fetch-dest': 'document',\n",
    "    'sec-fetch-mode': 'navigate',\n",
    "    'sec-fetch-site': 'same-origin',\n",
    "    'sec-fetch-user': '?1',\n",
    "    'upgrade-insecure-requests': '1',\n",
    "    'user-agent': 'Mozilla/5.0 (Windows NT 10.0; WOW64) AppleWebKit/537.36 (KHTML, like Gecko) Chrome/102.0.0.0 Safari/537.36',\n",
    "}\n",
    "\n",
    "params = {\n",
    "    'OrderBy': '5',\n",
    "    'sortRadio': 'on',\n",
    "    'Latitude': '',\n",
    "    'Longitude': '',\n",
    "    'page': '2',\n",
    "}"
   ]
  },
  {
   "cell_type": "markdown",
   "id": "4b6995bc-b820-4195-9741-236d9ba98d89",
   "metadata": {},
   "source": [
    "## Pendefinisian Fungsi"
   ]
  },
  {
   "cell_type": "code",
   "execution_count": 3,
   "id": "27e16028-d04c-4bcb-901f-5f9a0e997a85",
   "metadata": {},
   "outputs": [],
   "source": [
    "'''Melakukan convert harga dari string menjadi integer.'''\n",
    "def harga_integer(harga):\n",
    "    split_harga = harga.split(',') #Menghilangkan tanda koma sebagai tanda pemisah dari harga.\n",
    "    harga_tanpa_koma = ''\n",
    "    for i in range (len(split_harga)):\n",
    "        harga_tanpa_koma += split_harga[i] #Menambahkan keseluruhan string, sehingga harga_tanpa_koma akan berisi harga yang sudah tidak ada pemisah berupa tanda koma.\n",
    "    harga_int = int(harga_tanpa_koma.split(' ')[1]) #Mengambil hanya angkanya saja dari harga_tanpa_koma tanpa ada satuan Rp dan melakukan converting menjadi integer.\n",
    "    return harga_int"
   ]
  },
  {
   "cell_type": "code",
   "execution_count": 4,
   "id": "ff11b531-9f1b-482c-92a3-33595dd7e5a6",
   "metadata": {},
   "outputs": [],
   "source": [
    "'''Mengembalikan satuan berupa Miliar atau Juta dari harga'''\n",
    "def unitharga(harga):\n",
    "    if(len(str(harga)) >= 10) & (len(str(harga)) <= 12):\n",
    "        text = 'Miliar'\n",
    "    elif(len(str(harga)) >= 7) & (len(str(harga)) <= 9):\n",
    "        text = 'Juta'\n",
    "    return text"
   ]
  },
  {
   "cell_type": "markdown",
   "id": "141e2f33-19c7-4dc7-ae9c-e2a009a1bce8",
   "metadata": {},
   "source": [
    "## Permasalahan Ketika Scraping"
   ]
  },
  {
   "cell_type": "markdown",
   "id": "b116984a-8a50-444c-aa32-a7c4873679eb",
   "metadata": {},
   "source": [
    "Disini Saya mengambil beberapa informasi dari website tersebut beserta permasalahannya, yaitu:\n",
    "1. <b>Label</b>: Ada kemungkinan properti tersebut tidak memiliki label (Featured, Premier).\n",
    "2. <b>Link</b>.\n",
    "3. <b>Nama Properti</b>: Setiap nama properti pada website ini diawali dengan kata Jual.\n",
    "4. <b>Description</b>.\n",
    "5. <b>Jumlah Kamar Tidur</b>: Ada kemungkinan jumlah kamar tidur ini berupa string penjumlahan (contoh: 3+1).\n",
    "6. <b>Jumlah Kamar Mandi</b>: Ada kemungkinan jumlah kamar mandi ini berupa string penjumlahan (contoh: 3+1).\n",
    "7. <b>Luas Tanah</b>: Ada kemungkinan luas tanah tidak ada.\n",
    "8. <b>Luas Bangunan</b>: Ada kemungkinan luas bangunan tidak ada.\n",
    "9. <b>Nama Agen</b>.\n",
    "10. <b>Unit Agen</b>."
   ]
  },
  {
   "cell_type": "code",
   "execution_count": 5,
   "id": "6abed61d-4e9c-4ba0-b5be-bd592b8c656b",
   "metadata": {},
   "outputs": [],
   "source": [
    "'''Fungsi utama yang akan melakukan web scraping.'''\n",
    "def scraping_pages(object, firstPage, lastPage):\n",
    "    for page in range(firstPage, lastPage+1):\n",
    "        pages = requests.get(\"https://www.brighton.co.id/cari-properti/?OrderBy=5&sortRadio=on&Latitude=&Longitude=&page=\" + str(page), params=params, cookies=cookies, headers=headers)\n",
    "        soup = BeautifulSoup(pages.text, 'html.parser')\n",
    "        properti = soup.findAll('div', 'col-12 col-md-6 col-lg-4 py-2 px-0 py-sm-2 px-md-2')\n",
    "        for item in tqdm(properti):\n",
    "            try:\n",
    "                label = item.p.text.strip().upper()\n",
    "            except AttributeError:\n",
    "                label = ''\n",
    "            link = item.find('a').get('href')\n",
    "            nama = item.h2.text\n",
    "            nama = nama[5:].upper() #Menghilangkan bagian kata 'Jual '\n",
    "            desc = item.h3.text.strip().upper()\n",
    "            try:\n",
    "                kamar_tidur = item.find('span', {'title': 'Kamar Tidur'}).text\n",
    "                if(kamar_tidur.__contains__('+')):\n",
    "                    kamar_tidur = int(kamar_tidur.split('+')[0])+int(kamar_tidur.split('+')[1]) #Apabila terdapat '+' di kamar_tidur, maka akan dilakukan splitting, sehingga kita akan mendaptkan angkanya saja dan bisa dijumlah\n",
    "                else:\n",
    "                    kamar_tidur = int(kamar_tidur) #Apabila tidak terdapat '+', maka akan langsung di convert ke integer.\n",
    "            except AttributeError:\n",
    "                kamar_tidur = ''\n",
    "            except ValueError:\n",
    "                kamar_tidur = ''\n",
    "\n",
    "            try:\n",
    "                kamar_mandi = item.find('span', {'title': 'Kamar Mandi'}).text\n",
    "                if(kamar_mandi.__contains__('+')):\n",
    "                    kamar_mandi = int(kamar_mandi.split('+')[0])+int(kamar_mandi.split('+')[1]) #Apabila terdapat '+' di kamar_mandi, maka akan dilakukan splitting, sehingga kita akan mendaptkan angkanya saja dan bisa dijumlah\n",
    "                else:\n",
    "                    kamar_mandi = int(kamar_mandi) #Apabila tidak terdapat '+', maka akan langsung di convert ke integer.\n",
    "            except AttributeError:\n",
    "                kamar_mandi = ''\n",
    "\n",
    "            try:\n",
    "                luas_tanah = float(item.find('span', {'title':'Luas Tanah'}).text[:-2]) #Menghilangkan satuan m2 pada string dan melakukan converting string menjadi float.\n",
    "            except AttributeError:\n",
    "                luas_tanah = ''\n",
    "\n",
    "            try:    \n",
    "                luas_bangunan = float(item.find('span', {'title': 'Luas Bangunan'}).text[:-2]) #Menghilangkan satuan m2 pada string dan melakukan converting string menjadi float.\n",
    "            except AttributeError:\n",
    "                luas_bangunan = ''\n",
    "\n",
    "            harga = item.find('p', 'harga-properti').text\n",
    "            harga_int = harga_integer(harga)\n",
    "            unit = unitharga(harga_int).upper() #Mendaptkan unit harga dari harga (Juta atau Miliar).\n",
    "            if(unit == 'MILIAR'):\n",
    "                harga_int = harga_int/10**9\n",
    "            elif (unit == 'JUTA'):\n",
    "                harga_int = harga_int/10**6\n",
    "\n",
    "            nama_agen = item.h4.text.upper()\n",
    "            unit_agen = item.find('p', 'unit-agen').text.upper()\n",
    "\n",
    "\n",
    "            value = {\n",
    "                \"Nama\": nama, \n",
    "                \"Label\": label,\n",
    "                \"Deskripsi\": desc,\n",
    "                \"Luas Tanah(m2)\": luas_tanah, \n",
    "                \"Luas Bangunan(m2)\": luas_bangunan,\n",
    "                \"Jumlah Kamar Tidur\": kamar_tidur,\n",
    "                \"Jumlah Kamar Mandi\": kamar_mandi, \n",
    "                \"Harga\": harga_int, \n",
    "                \"Unit Harga\": unit, \n",
    "                \"Nama Agen\": nama_agen, \n",
    "                \"Unit Agen\": unit_agen, \n",
    "                \"Link\": link\n",
    "            }\n",
    "            object.append(value)"
   ]
  },
  {
   "cell_type": "markdown",
   "id": "437b42fe-2355-4823-96b0-34cf61fda94f",
   "metadata": {},
   "source": [
    "## Tahap Pengambilan Data"
   ]
  },
  {
   "cell_type": "code",
   "execution_count": null,
   "id": "0bae8b67-b422-4446-9075-26bca0baa11f",
   "metadata": {},
   "outputs": [
    {
     "name": "stderr",
     "output_type": "stream",
     "text": [
      "100%|██████████████████████████████████████████████████████████████████████████████████| 9/9 [00:00<00:00, 1122.94it/s]\n",
      "100%|██████████████████████████████████████████████████████████████████████████████████| 9/9 [00:00<00:00, 1121.77it/s]\n",
      "100%|██████████████████████████████████████████████████████████████████████████████████| 9/9 [00:00<00:00, 1127.03it/s]\n",
      "100%|███████████████████████████████████████████████████████████████████████████████████| 9/9 [00:00<00:00, 822.90it/s]\n",
      "100%|███████████████████████████████████████████████████████████████████████████████████| 9/9 [00:00<00:00, 902.39it/s]\n",
      "100%|██████████████████████████████████████████████████████████████████████████████████| 9/9 [00:00<00:00, 1127.47it/s]\n",
      "100%|███████████████████████████████████████████████████████████████████████████████████| 9/9 [00:00<00:00, 898.84it/s]\n",
      "100%|██████████████████████████████████████████████████████████████████████████████████| 9/9 [00:00<00:00, 1291.22it/s]\n",
      "100%|███████████████████████████████████████████████████████████████████████████████████| 9/9 [00:00<00:00, 907.73it/s]\n",
      "100%|██████████████████████████████████████████████████████████████████████████████████| 9/9 [00:00<00:00, 1002.68it/s]\n"
     ]
    }
   ],
   "source": [
    "values = []\n",
    "scraping_pages(values, 1, 100)\n",
    "print(\"Berhasil melakukan scraping data sebanyak \"+len(values))"
   ]
  },
  {
   "cell_type": "code",
   "execution_count": 7,
   "id": "0e2a2adc-38f8-4290-aa37-eb8444a02b0d",
   "metadata": {},
   "outputs": [
    {
     "data": {
      "text/plain": [
       "90"
      ]
     },
     "execution_count": 7,
     "metadata": {},
     "output_type": "execute_result"
    }
   ],
   "source": [
    "len(values) #Memeriksa jumlah data yang berhasil diambil."
   ]
  },
  {
   "cell_type": "code",
   "execution_count": 9,
   "id": "32299f06-979a-40b9-b1a1-bbc5d2de4870",
   "metadata": {},
   "outputs": [],
   "source": [
    "databersih = [i for n, i in enumerate(values) if i not in values[n + 1:]]"
   ]
  },
  {
   "cell_type": "code",
   "execution_count": 10,
   "id": "a1352450-51e2-4d60-9c51-e1f1f0d4a336",
   "metadata": {},
   "outputs": [
    {
     "data": {
      "text/plain": [
       "90"
      ]
     },
     "execution_count": 10,
     "metadata": {},
     "output_type": "execute_result"
    }
   ],
   "source": [
    "len(databersih) #Memeriksa jumlah data yang benar-benar diambil."
   ]
  },
  {
   "cell_type": "code",
   "execution_count": 12,
   "id": "af3a8ce9-ca3e-457a-b3dc-2145e89751c7",
   "metadata": {},
   "outputs": [
    {
     "name": "stdin",
     "output_type": "stream",
     "text": [
      "Nama File:  brightonData\n"
     ]
    }
   ],
   "source": [
    "filename = input(\"Nama File: \")\n",
    "filepath = 'G:/My Drive/Tugas Lab Basis Data/Brighton Web Scraping/data'\n",
    "dump = json.dumps(databersih, indent=4)\n",
    "filepath = os.path.join(filepath, filename + \".json\")\n",
    "with open(filepath, \"w\") as file:\n",
    "    file.write(dump)\n",
    "    file.close()"
   ]
  }
 ],
 "metadata": {
  "kernelspec": {
   "display_name": "Python 3",
   "language": "python",
   "name": "python3"
  },
  "language_info": {
   "codemirror_mode": {
    "name": "ipython",
    "version": 3
   },
   "file_extension": ".py",
   "mimetype": "text/x-python",
   "name": "python",
   "nbconvert_exporter": "python",
   "pygments_lexer": "ipython3",
   "version": "3.8.8"
  }
 },
 "nbformat": 4,
 "nbformat_minor": 5
}
