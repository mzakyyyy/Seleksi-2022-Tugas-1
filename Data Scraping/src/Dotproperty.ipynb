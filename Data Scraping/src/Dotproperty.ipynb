{
 "cells": [
  {
   "cell_type": "markdown",
   "id": "5eb7b4df-aa0e-417b-96b4-79a838b751b2",
   "metadata": {},
   "source": [
    "# Tugas 1 Seleksi Lab Basis Data - Data Scraping and Storing"
   ]
  },
  {
   "cell_type": "markdown",
   "id": "29b0ec10-b70d-4098-96dd-6b7443736945",
   "metadata": {},
   "source": [
    "## Website: \n",
    "https://www.dotproperty.id/properties-for-rent : Data properti yang disewakan.\n",
    "<br>https://www.dotproperty.id/properties-for-sale : Data properti yang dijual"
   ]
  },
  {
   "cell_type": "markdown",
   "id": "897f189f-a343-4b06-834b-683c4ca032b3",
   "metadata": {},
   "source": [
    "## Nama: Muhammad Zaky\n",
    "## NIM: 18220071"
   ]
  },
  {
   "cell_type": "markdown",
   "id": "40476d57-d75c-4d17-b176-18fa12ab6d48",
   "metadata": {},
   "source": [
    "## Import Required Libraries"
   ]
  },
  {
   "cell_type": "code",
   "execution_count": 1,
   "id": "5e38d195-a631-47f1-97c8-e60e19831860",
   "metadata": {},
   "outputs": [],
   "source": [
    "import json\n",
    "from bs4 import BeautifulSoup\n",
    "import requests\n",
    "import time\n",
    "import os"
   ]
  },
  {
   "cell_type": "code",
   "execution_count": 2,
   "id": "2d5ea778-2541-44a1-bcc4-b0048c4da77e",
   "metadata": {},
   "outputs": [],
   "source": [
    "headers = {'user-agent': 'Mozilla/5.0 (Windows NT 10.0; WOW64) AppleWebKit/537.36 (KHTML, like Gecko) Chrome/102.0.0.0 Safari/537.36'}"
   ]
  },
  {
   "cell_type": "markdown",
   "id": "47b2469c-faab-401d-a4c9-efba5b9ce65d",
   "metadata": {},
   "source": [
    "## Pendefinisian Beberapa Fungsi"
   ]
  },
  {
   "cell_type": "markdown",
   "id": "f692ac2e-6748-4478-a13c-d900711e566f",
   "metadata": {},
   "source": [
    "### Permasalahan"
   ]
  },
  {
   "cell_type": "markdown",
   "id": "3929ef65-a5b2-4e12-8249-54936cabad33",
   "metadata": {},
   "source": [
    "- Attribute Luas Tanah memiliki tanda ',' sebagai pemisah angka ribuan dan di dalam attribute luas tanah juga terdapat satuan (m2) yang tidak kita butuhkan\n",
    "- Attribute Harga memiliki dua tipe, yaitu yang berbentuk jutaan dan miliar. \n",
    "<br> - Untuk attribute Harga yang bertipe jutaan, attribute ini masih memiliki satuan 'Rp' dan dipisahkan oleh tanda ',' (Contoh: Rp 200,000,000).\n",
    "<br> - Untuk attribute Harga yang bertipe miliar, attribute ini dalam bentuk satuan 'Miliar' dan masih memiliki satuan 'Rp' (Contoh: Rp 2.85 Miliar).\n",
    "- Attribute Lokasi kita ingin pecah menjadi kota dan provinsi karena rata-rata dari attribute ini memiliki format seperti ({Nama Kota}, {Nama Provinsi}), sehingga ini akan lebih baik untuk dipecah menjadi kota dan provinsi."
   ]
  },
  {
   "cell_type": "markdown",
   "id": "17333fa0-e856-4725-bffc-7845f277dcfe",
   "metadata": {},
   "source": [
    "### Fungsi Pendukung"
   ]
  },
  {
   "cell_type": "code",
   "execution_count": 3,
   "id": "a2e9551e-ffcf-4094-898e-3d5980c91c5c",
   "metadata": {},
   "outputs": [],
   "source": [
    "def extract_luas_tanah(luas_tanah): #Fungsi untuk mengambil angka dari 'luas tanah' dan membentuknya dalam format data float.\n",
    "    luas = luas_tanah.split(' ')\n",
    "    if(luas[0].__contains__(',')):\n",
    "        return luas[0].replace(',','')\n",
    "    return float(luas[0])\n",
    "\n",
    "def extract_harga_juta(harga): #Fungsi untuk mengambil angka dari 'harga' yang bertipe jutaan, sehingga sudah tidak ada satuan 'Rp' dan tidak dipisahkan oleh tanda ','.\n",
    "    hargasplit = harga.split(' ')\n",
    "    return float(hargasplit[1].replace(',', ''))\n",
    "\n",
    "def extract_harga_miliar(harga): #Fungsi untuk mengambil angka dari 'harga' yang bertipe miliar, sehingga sudah tidak ada satuan 'Rp'.\n",
    "    hargasplit = harga.split(' ')\n",
    "    return float(hargasplit[1])\n",
    "\n",
    "def extract_kota(lokasi): #Fungsi untuk mengambil nama kota dari 'lokasi'.\n",
    "    return lokasi.split(',')[0]\n",
    "\n",
    "def extract_provinsi(lokasi): #Fungsi untuk mengambil nama provinsi dari 'lokasi' dan menghilangkan spasi yang berada di awal.\n",
    "    return (lokasi.split(',')[1])[1:]"
   ]
  },
  {
   "cell_type": "markdown",
   "id": "3e685c0d-3fd0-4b6e-b6b4-afaa53bc3997",
   "metadata": {},
   "source": [
    "### Fungsi Utama"
   ]
  },
  {
   "cell_type": "code",
   "execution_count": 4,
   "id": "4d9a28ee-2d1f-4c6c-b12a-990595b9fffa",
   "metadata": {},
   "outputs": [],
   "source": [
    "def scraping_pages(data, object, firstPage, lastPage): #Fungsi utama untuk melakukan scraping yang menerima masukan 'data' berupa ['rent', 'sale'] sebagai parameter searching.\n",
    "    count_pages = 1 #Menghitung jumlah halaman yang sudah di scrape.\n",
    "    for page in range(firstPage, lastPage+1):\n",
    "        n = 0 #Untuk menghitung banyak data yang di scrape dari sebuah halaman.\n",
    "        template = \"https://www.dotproperty.id/properties-for-{}?page=\"\n",
    "        pages = requests.get(template.format(data)+\"?page=\"+str(page), headers=headers)\n",
    "        soup = BeautifulSoup(pages.text, 'html.parser')\n",
    "        properti = soup.find_all(True, {'class':['search-list normal', 'search-list featured', 'search-list premium']})\n",
    "        for item in properti:\n",
    "            tag = item.find('div', 'right-block')\n",
    "            \n",
    "            #Title dari properti.\n",
    "            title = item.a.get('title')\n",
    "            \n",
    "            #Link dari properti\n",
    "            link = item.a.get('href')\n",
    "            \n",
    "            #Harga dan unit harga dari properti.\n",
    "            harga = tag.find('div', 'price').text.strip()\n",
    "            unit = ''\n",
    "            try:\n",
    "                if (harga.__contains__('Milyar')):\n",
    "                    unit = 'Miliar'\n",
    "                    hargaint = extract_harga_miliar(harga) #harga dalam bentuk float (Contoh: 2.85)\n",
    "                    harga_idr = int(hargaint*10**9) #harga dalam bentuk rupiah secara utuh (Contoh: 2850000000)\n",
    "                else:\n",
    "                    unit = 'Juta'\n",
    "                    hargaint = extract_harga_juta(harga)/10**6\n",
    "                    harga_idr = int(extract_harga_juta(harga))\n",
    "            except ValueError:\n",
    "                unit = ''\n",
    "                hargaint = ''\n",
    "            \n",
    "            #Badge dari properti ['Normal', 'Utama', 'Premium']\n",
    "            try:\n",
    "                badge = item.find('div', 'rectangle-badge').text.strip()\n",
    "            except AttributeError:\n",
    "                badge = 'Normal'\n",
    "            \n",
    "            #Nama dari properti\n",
    "            nama = tag.h3.text.strip()\n",
    "            \n",
    "            #Lokasi dari properti yang dipecah menjadi kota dan provinsi\n",
    "            lokasi = tag.find('div', 'location').text.strip()\n",
    "            if (lokasi.__contains__(',')):\n",
    "                kota = extract_kota(lokasi)\n",
    "                provinsi = extract_provinsi(lokasi)\n",
    "            else:\n",
    "                kota = ''\n",
    "                provinsi = extract_kota(lokasi)\n",
    "                \n",
    "            #Tipe properti\n",
    "            tipe = tag.find('div', 'hidden-property-type hidden').text\n",
    "            \n",
    "            #Accomodation(Kamar mandi, Kamar tidur, Luas tanah)\n",
    "            ul = tag.find('ul')\n",
    "            acc = []\n",
    "            for li in ul.find_all('li'):\n",
    "                acc.append(li.span.text)\n",
    "            if(len(acc) == 3):\n",
    "                kamar_mandi = int(acc[0])\n",
    "                kamar_tidur = int(acc[1])\n",
    "                luas_tanah = acc[2]\n",
    "                luas_int = extract_luas_tanah(luas_tanah)\n",
    "            else:\n",
    "                acckamar = []\n",
    "                for item in acc:\n",
    "                    if(item.__contains__('m2')):\n",
    "                        luas_tanah = item\n",
    "                        luas_int = extract_luas_tanah(luas_tanah)\n",
    "                    else:\n",
    "                        acckamar.append(item)\n",
    "                        luas_tanah = ''\n",
    "                if(len(acckamar) == 2):\n",
    "                    kamar_tidur = int(acckamar[0])\n",
    "                    kamar_mandi = int(acckamar[1])\n",
    "                elif(len(acckamar) == 1):\n",
    "                    kamar_tidur = int(acckamar[0])\n",
    "                    kamar_mandi = ''\n",
    "                elif(len(acckamar) == 0):\n",
    "                    kamar_tidur = ''\n",
    "                    kamar_mandi = ''\n",
    "            \n",
    "            #Status apakah disewakan atau dijual\n",
    "            status = ''\n",
    "            if(data == 'rent'):\n",
    "                status = 'Disewakan'\n",
    "            elif(data == 'sale'):\n",
    "                status = 'Dijual'\n",
    "            \n",
    "            pembayaran = ''\n",
    "            if (status == 'Disewakan'):\n",
    "                pembayaran = \"Per \"+tag.small.text.strip()\n",
    "\n",
    "            value = {\n",
    "                \"Title\": title, \n",
    "                \"Nama\": nama,\n",
    "                \"Badge\": badge,\n",
    "                \"Tipe\": tipe,\n",
    "                \"Jumlah Kamar Mandi\": kamar_mandi,\n",
    "                \"Jumlah Kamar Tidur\": kamar_tidur, \n",
    "                \"Luas Tanah(m2)\": luas_int,\n",
    "                \"Harga (IDR)\": harga_idr,\n",
    "                \"Harga (float)\": hargaint,\n",
    "                \"Unit Harga\": unit,\n",
    "                \"Status Pembayaran\": pembayaran,\n",
    "                \"Kota\": kota,\n",
    "                \"Provinsi\": provinsi,\n",
    "                \"Status\": status,\n",
    "                \"Link\": link\n",
    "                    }\n",
    "            object.append(value)\n",
    "            n += 1\n",
    "        print(\"Berhasil melakukan scraping halaman ke-\"+str(count_pages)+\" sebanyak \"+str(n)+\" data.\")\n",
    "        count_pages += 1\n",
    "        time.sleep(1) #Agar tidak diblock"
   ]
  },
  {
   "cell_type": "code",
   "execution_count": 5,
   "id": "ef7f328a-580a-490e-8b20-20be701cee9e",
   "metadata": {},
   "outputs": [
    {
     "name": "stdout",
     "output_type": "stream",
     "text": [
      "Berhasil melakukan scraping halaman ke-1 sebanyak 25 data.\n",
      "Berhasil melakukan scraping halaman ke-2 sebanyak 25 data.\n",
      "Berhasil melakukan scraping halaman ke-3 sebanyak 25 data.\n",
      "Berhasil melakukan scraping halaman ke-4 sebanyak 25 data.\n",
      "Berhasil melakukan scraping halaman ke-5 sebanyak 25 data.\n",
      "Berhasil melakukan scraping halaman ke-6 sebanyak 25 data.\n",
      "Berhasil melakukan scraping halaman ke-7 sebanyak 25 data.\n",
      "Berhasil melakukan scraping halaman ke-8 sebanyak 25 data.\n",
      "Berhasil melakukan scraping halaman ke-9 sebanyak 25 data.\n",
      "Berhasil melakukan scraping halaman ke-10 sebanyak 25 data.\n",
      "Berhasil melakukan scraping halaman ke-11 sebanyak 25 data.\n",
      "Berhasil melakukan scraping halaman ke-12 sebanyak 25 data.\n",
      "Berhasil melakukan scraping halaman ke-13 sebanyak 25 data.\n",
      "Berhasil melakukan scraping halaman ke-14 sebanyak 25 data.\n",
      "Berhasil melakukan scraping halaman ke-15 sebanyak 25 data.\n",
      "Berhasil melakukan scraping halaman ke-16 sebanyak 25 data.\n",
      "Berhasil melakukan scraping halaman ke-17 sebanyak 25 data.\n",
      "Berhasil melakukan scraping halaman ke-18 sebanyak 25 data.\n",
      "Berhasil melakukan scraping halaman ke-19 sebanyak 25 data.\n",
      "Berhasil melakukan scraping halaman ke-20 sebanyak 25 data.\n",
      "Berhasil melakukan scraping halaman ke-21 sebanyak 25 data.\n",
      "Berhasil melakukan scraping halaman ke-22 sebanyak 25 data.\n",
      "Berhasil melakukan scraping halaman ke-23 sebanyak 25 data.\n",
      "Berhasil melakukan scraping halaman ke-24 sebanyak 25 data.\n",
      "Berhasil melakukan scraping halaman ke-25 sebanyak 25 data.\n",
      "Berhasil melakukan scraping halaman ke-26 sebanyak 25 data.\n",
      "Berhasil melakukan scraping halaman ke-27 sebanyak 25 data.\n",
      "Berhasil melakukan scraping halaman ke-28 sebanyak 25 data.\n",
      "Berhasil melakukan scraping halaman ke-29 sebanyak 25 data.\n",
      "Berhasil melakukan scraping halaman ke-30 sebanyak 25 data.\n",
      "Berhasil melakukan scraping halaman ke-31 sebanyak 25 data.\n",
      "Berhasil melakukan scraping halaman ke-32 sebanyak 25 data.\n",
      "Berhasil melakukan scraping halaman ke-33 sebanyak 25 data.\n",
      "Berhasil melakukan scraping halaman ke-34 sebanyak 25 data.\n",
      "Berhasil melakukan scraping halaman ke-35 sebanyak 25 data.\n",
      "Berhasil melakukan scraping halaman ke-36 sebanyak 25 data.\n",
      "Berhasil melakukan scraping halaman ke-37 sebanyak 25 data.\n",
      "Berhasil melakukan scraping halaman ke-38 sebanyak 25 data.\n",
      "Berhasil melakukan scraping halaman ke-39 sebanyak 25 data.\n",
      "Berhasil melakukan scraping halaman ke-40 sebanyak 25 data.\n",
      "Berhasil melakukan scraping halaman ke-41 sebanyak 25 data.\n",
      "Berhasil melakukan scraping halaman ke-42 sebanyak 25 data.\n",
      "Berhasil melakukan scraping halaman ke-43 sebanyak 25 data.\n",
      "Berhasil melakukan scraping halaman ke-44 sebanyak 25 data.\n",
      "Berhasil melakukan scraping halaman ke-45 sebanyak 25 data.\n",
      "Berhasil melakukan scraping halaman ke-46 sebanyak 25 data.\n",
      "Berhasil melakukan scraping halaman ke-47 sebanyak 25 data.\n",
      "Berhasil melakukan scraping halaman ke-48 sebanyak 25 data.\n",
      "Berhasil melakukan scraping halaman ke-49 sebanyak 25 data.\n",
      "Berhasil melakukan scraping halaman ke-50 sebanyak 25 data.\n"
     ]
    }
   ],
   "source": [
    "#Scrape data properti yang disewakan\n",
    "rentdata = []\n",
    "scraping_pages('rent', rentdata, 1, 50)"
   ]
  },
  {
   "cell_type": "code",
   "execution_count": 6,
   "id": "dcc44531-083e-4697-9f3d-c91cd3e5b864",
   "metadata": {},
   "outputs": [
    {
     "name": "stdout",
     "output_type": "stream",
     "text": [
      "Berhasil melakukan scraping halaman ke-1 sebanyak 25 data.\n",
      "Berhasil melakukan scraping halaman ke-2 sebanyak 25 data.\n",
      "Berhasil melakukan scraping halaman ke-3 sebanyak 25 data.\n",
      "Berhasil melakukan scraping halaman ke-4 sebanyak 25 data.\n",
      "Berhasil melakukan scraping halaman ke-5 sebanyak 25 data.\n",
      "Berhasil melakukan scraping halaman ke-6 sebanyak 25 data.\n",
      "Berhasil melakukan scraping halaman ke-7 sebanyak 25 data.\n",
      "Berhasil melakukan scraping halaman ke-8 sebanyak 25 data.\n",
      "Berhasil melakukan scraping halaman ke-9 sebanyak 25 data.\n",
      "Berhasil melakukan scraping halaman ke-10 sebanyak 25 data.\n",
      "Berhasil melakukan scraping halaman ke-11 sebanyak 25 data.\n",
      "Berhasil melakukan scraping halaman ke-12 sebanyak 25 data.\n",
      "Berhasil melakukan scraping halaman ke-13 sebanyak 25 data.\n",
      "Berhasil melakukan scraping halaman ke-14 sebanyak 25 data.\n",
      "Berhasil melakukan scraping halaman ke-15 sebanyak 25 data.\n",
      "Berhasil melakukan scraping halaman ke-16 sebanyak 25 data.\n",
      "Berhasil melakukan scraping halaman ke-17 sebanyak 25 data.\n",
      "Berhasil melakukan scraping halaman ke-18 sebanyak 25 data.\n",
      "Berhasil melakukan scraping halaman ke-19 sebanyak 25 data.\n",
      "Berhasil melakukan scraping halaman ke-20 sebanyak 25 data.\n",
      "Berhasil melakukan scraping halaman ke-21 sebanyak 25 data.\n",
      "Berhasil melakukan scraping halaman ke-22 sebanyak 25 data.\n",
      "Berhasil melakukan scraping halaman ke-23 sebanyak 25 data.\n",
      "Berhasil melakukan scraping halaman ke-24 sebanyak 25 data.\n",
      "Berhasil melakukan scraping halaman ke-25 sebanyak 25 data.\n",
      "Berhasil melakukan scraping halaman ke-26 sebanyak 25 data.\n",
      "Berhasil melakukan scraping halaman ke-27 sebanyak 25 data.\n",
      "Berhasil melakukan scraping halaman ke-28 sebanyak 25 data.\n",
      "Berhasil melakukan scraping halaman ke-29 sebanyak 25 data.\n",
      "Berhasil melakukan scraping halaman ke-30 sebanyak 25 data.\n",
      "Berhasil melakukan scraping halaman ke-31 sebanyak 25 data.\n",
      "Berhasil melakukan scraping halaman ke-32 sebanyak 25 data.\n",
      "Berhasil melakukan scraping halaman ke-33 sebanyak 25 data.\n",
      "Berhasil melakukan scraping halaman ke-34 sebanyak 25 data.\n",
      "Berhasil melakukan scraping halaman ke-35 sebanyak 25 data.\n",
      "Berhasil melakukan scraping halaman ke-36 sebanyak 25 data.\n",
      "Berhasil melakukan scraping halaman ke-37 sebanyak 25 data.\n",
      "Berhasil melakukan scraping halaman ke-38 sebanyak 25 data.\n",
      "Berhasil melakukan scraping halaman ke-39 sebanyak 25 data.\n",
      "Berhasil melakukan scraping halaman ke-40 sebanyak 25 data.\n",
      "Berhasil melakukan scraping halaman ke-41 sebanyak 25 data.\n",
      "Berhasil melakukan scraping halaman ke-42 sebanyak 25 data.\n",
      "Berhasil melakukan scraping halaman ke-43 sebanyak 25 data.\n",
      "Berhasil melakukan scraping halaman ke-44 sebanyak 25 data.\n",
      "Berhasil melakukan scraping halaman ke-45 sebanyak 25 data.\n",
      "Berhasil melakukan scraping halaman ke-46 sebanyak 25 data.\n",
      "Berhasil melakukan scraping halaman ke-47 sebanyak 25 data.\n",
      "Berhasil melakukan scraping halaman ke-48 sebanyak 25 data.\n",
      "Berhasil melakukan scraping halaman ke-49 sebanyak 25 data.\n",
      "Berhasil melakukan scraping halaman ke-50 sebanyak 25 data.\n"
     ]
    }
   ],
   "source": [
    "#Scrape data properti yang dijual\n",
    "saledata = []\n",
    "scraping_pages('sale', saledata, 1, 50)"
   ]
  },
  {
   "cell_type": "code",
   "execution_count": 8,
   "id": "fb553ae4-fe93-4904-86a3-201d29580d01",
   "metadata": {},
   "outputs": [],
   "source": [
    "rentsaledata = rentdata + saledata"
   ]
  },
  {
   "cell_type": "code",
   "execution_count": 9,
   "id": "bf940f79-8386-4434-a212-0547a2e8728c",
   "metadata": {},
   "outputs": [
    {
     "name": "stdin",
     "output_type": "stream",
     "text": [
      "Nama File:  Rent and Sale Properties Data\n"
     ]
    }
   ],
   "source": [
    "filename = input(\"Nama File: \")\n",
    "filepath = 'G:/My Drive/Tugas Lab Basis Data/Seleksi-2022-Tugas-1/Data Scraping/data'\n",
    "dump = json.dumps(rentsaledata, indent=4)\n",
    "filepath = os.path.join(filepath, filename + \".json\")\n",
    "with open(filepath, \"w\") as file:\n",
    "    file.write(dump)\n",
    "    file.close()"
   ]
  },
  {
   "cell_type": "code",
   "execution_count": 10,
   "id": "1086e8aa-acc9-4a11-91c0-793bfb7b447e",
   "metadata": {},
   "outputs": [
    {
     "data": {
      "text/plain": [
       "2500"
      ]
     },
     "execution_count": 10,
     "metadata": {},
     "output_type": "execute_result"
    }
   ],
   "source": [
    "len(rentsaledata)"
   ]
  },
  {
   "cell_type": "code",
   "execution_count": null,
   "id": "b311eef4-9c11-440d-bd6c-d96a73960b10",
   "metadata": {},
   "outputs": [],
   "source": []
  }
 ],
 "metadata": {
  "kernelspec": {
   "display_name": "Python 3",
   "language": "python",
   "name": "python3"
  },
  "language_info": {
   "codemirror_mode": {
    "name": "ipython",
    "version": 3
   },
   "file_extension": ".py",
   "mimetype": "text/x-python",
   "name": "python",
   "nbconvert_exporter": "python",
   "pygments_lexer": "ipython3",
   "version": "3.8.8"
  }
 },
 "nbformat": 4,
 "nbformat_minor": 5
}
